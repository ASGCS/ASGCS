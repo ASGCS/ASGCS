{
  "nbformat": 4,
  "nbformat_minor": 0,
  "metadata": {
    "colab": {
      "name": "plotly.ipynb",
      "provenance": [],
      "collapsed_sections": [],
      "authorship_tag": "ABX9TyNb35Yu9wQTh3VWDgOZxUKV",
      "include_colab_link": true
    },
    "kernelspec": {
      "name": "python3",
      "display_name": "Python 3"
    },
    "language_info": {
      "name": "python"
    }
  },
  "cells": [
    {
      "cell_type": "markdown",
      "metadata": {
        "id": "view-in-github",
        "colab_type": "text"
      },
      "source": [
        "<a href=\"https://colab.research.google.com/github/ASGCS/ASGCS/blob/main/plotly.ipynb\" target=\"_parent\"><img src=\"https://colab.research.google.com/assets/colab-badge.svg\" alt=\"Open In Colab\"/></a>"
      ]
    },
    {
      "cell_type": "code",
      "execution_count": 2,
      "metadata": {
        "id": "e_bXGxeJM2LR"
      },
      "outputs": [],
      "source": [
        "import plotly.express as px"
      ]
    },
    {
      "cell_type": "code",
      "source": [
        "df = px.data.gapminder().query(\"year == 2007\")"
      ],
      "metadata": {
        "id": "nzwCW53mNGCU"
      },
      "execution_count": 3,
      "outputs": []
    },
    {
      "cell_type": "code",
      "source": [
        "px.histogram(df, x = \"lifeExp\", y='pop', marginal=\"rug\", hover_name='country', color='continent', height = 700)"
      ],
      "metadata": {
        "id": "DwPtTjqeNM8L"
      },
      "execution_count": null,
      "outputs": []
    },
    {
      "cell_type": "code",
      "source": [
        "px.bar(df, x = \"pop\", y='continent', hover_name='country', color='lifeExp', height = 700)"
      ],
      "metadata": {
        "id": "PxudVlIdOqwV"
      },
      "execution_count": null,
      "outputs": []
    },
    {
      "cell_type": "code",
      "source": [
        "px.sunburst(df, path=['continent', 'country'], values = 'pop', hover_name = 'country', color='lifeExp',height = 1000)"
      ],
      "metadata": {
        "id": "Deqp06t1O-2U"
      },
      "execution_count": null,
      "outputs": []
    },
    {
      "cell_type": "code",
      "source": [
        "px.treemap(df, path=['continent', 'country'], values = 'pop', hover_name = 'country', color='lifeExp',height = 1000)"
      ],
      "metadata": {
        "id": "QfRDFK-cPr7c"
      },
      "execution_count": null,
      "outputs": []
    },
    {
      "cell_type": "code",
      "source": [
        "px.choropleth(df, locations = 'iso_alpha', hover_name='country', color='lifeExp', projection='natural earth', height = 500)"
      ],
      "metadata": {
        "id": "7b27WVzpQIjf"
      },
      "execution_count": null,
      "outputs": []
    },
    {
      "cell_type": "code",
      "source": [
        "px.scatter(df, x='gdpPercap', y='lifeExp',size='pop', size_max=65, color='continent', hover_name='country', hover_data = df.columns, height=700)"
      ],
      "metadata": {
        "id": "sqNJrvYzQf-I"
      },
      "execution_count": null,
      "outputs": []
    },
    {
      "cell_type": "code",
      "source": [
        "df_ = px.data.gapminder()\n",
        "px.scatter(df_,\n",
        "           x='gdpPercap',\n",
        "           y='lifeExp',\n",
        "           size='pop',\n",
        "           size_max=65,\n",
        "           color='continent',\n",
        "           animation_frame='year',\n",
        "           animation_group = 'country',\n",
        "           range_y=[20,100],\n",
        "           log_x=True,\n",
        "           hover_name='country',\n",
        "           hover_data = df.columns,\n",
        "           height=700)"
      ],
      "metadata": {
        "id": "9R_I_Xf6RAhO"
      },
      "execution_count": null,
      "outputs": []
    },
    {
      "cell_type": "code",
      "source": [
        ""
      ],
      "metadata": {
        "id": "Vj8BgUxBSlTu"
      },
      "execution_count": null,
      "outputs": []
    }
  ]
}